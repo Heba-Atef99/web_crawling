{
 "cells": [
  {
   "attachments": {},
   "cell_type": "markdown",
   "metadata": {},
   "source": [
    "# Import Libraries"
   ]
  },
  {
   "cell_type": "code",
   "execution_count": 17,
   "metadata": {},
   "outputs": [],
   "source": [
    "from selenium import webdriver\n",
    "from selenium.webdriver.common.by import By"
   ]
  },
  {
   "cell_type": "code",
   "execution_count": 18,
   "metadata": {},
   "outputs": [],
   "source": [
    "task4_1URL = \"https://www.amazon.in/gp/bestsellers/books/\"\n",
    "task4_2URL = \"https://www.boxofficemojo.com/chart/top_lifetime_gross/?area=XWW\"\n",
    "driver_path = \"E:\\ITI_AI\\11.Data Preprocessing\\day1\\chromedriver_win32\\chromedriver.exe\""
   ]
  },
  {
   "attachments": {},
   "cell_type": "markdown",
   "metadata": {},
   "source": [
    "# Setup Driver"
   ]
  },
  {
   "cell_type": "code",
   "execution_count": 19,
   "metadata": {},
   "outputs": [
    {
     "name": "stderr",
     "output_type": "stream",
     "text": [
      "C:\\Users\\Heba\\AppData\\Local\\Temp\\ipykernel_19924\\2650398687.py:1: DeprecationWarning: executable_path has been deprecated, please pass in a Service object\n",
      "  driver = webdriver.Chrome(driver_path)\n"
     ]
    }
   ],
   "source": [
    "driver = webdriver.Chrome(driver_path)"
   ]
  },
  {
   "attachments": {},
   "cell_type": "markdown",
   "metadata": {},
   "source": [
    "## Task 4.1: Scrap books title, and prices"
   ]
  },
  {
   "attachments": {},
   "cell_type": "markdown",
   "metadata": {},
   "source": [
    "### Get Page "
   ]
  },
  {
   "cell_type": "code",
   "execution_count": 10,
   "metadata": {},
   "outputs": [],
   "source": [
    "driver.get(task4_1URL)"
   ]
  },
  {
   "attachments": {},
   "cell_type": "markdown",
   "metadata": {},
   "source": [
    "### Get The Books Elements"
   ]
  },
  {
   "cell_type": "code",
   "execution_count": 11,
   "metadata": {},
   "outputs": [],
   "source": [
    "all_books = driver.find_elements(By.XPATH, '//div[@class=\"a-cardui _cDEzb_grid-cell_1uMOS expandableGrid p13n-grid-content\"]')"
   ]
  },
  {
   "attachments": {},
   "cell_type": "markdown",
   "metadata": {},
   "source": [
    "### Write Result in CSV File"
   ]
  },
  {
   "cell_type": "code",
   "execution_count": 16,
   "metadata": {},
   "outputs": [],
   "source": [
    "with open('books.csv', 'w', encoding=\"utf-8\") as fh:\n",
    "    fh.write('title, price\\n')\n",
    "    for book in all_books:\n",
    "        try:\n",
    "            title = book.find_element(By.XPATH, './/a/span/div[@class=\"_cDEzb_p13n-sc-css-line-clamp-1_1Fn1y\"]')\n",
    "            price = book.find_element(By.XPATH, './/span[@class=\"_cDEzb_p13n-sc-price_3mJ9Z\"]')\n",
    "        except:\n",
    "            continue\n",
    "        fh.write(f'\"{title.text}\", \"{price.text}\"\\n')"
   ]
  },
  {
   "attachments": {},
   "cell_type": "markdown",
   "metadata": {},
   "source": [
    "## Task 4.2: Scrape the top 200 movies"
   ]
  },
  {
   "attachments": {},
   "cell_type": "markdown",
   "metadata": {},
   "source": [
    "### Get Page"
   ]
  },
  {
   "cell_type": "code",
   "execution_count": 20,
   "metadata": {},
   "outputs": [],
   "source": [
    "driver.get(task4_2URL)"
   ]
  },
  {
   "attachments": {},
   "cell_type": "markdown",
   "metadata": {},
   "source": [
    "### Get Each Movie Element"
   ]
  },
  {
   "cell_type": "code",
   "execution_count": 21,
   "metadata": {},
   "outputs": [],
   "source": [
    "all_movies = driver.find_elements(By.XPATH, '//tr')"
   ]
  },
  {
   "attachments": {},
   "cell_type": "markdown",
   "metadata": {},
   "source": [
    "### Write Result in CSV File"
   ]
  },
  {
   "cell_type": "code",
   "execution_count": 24,
   "metadata": {},
   "outputs": [],
   "source": [
    "with open('Movies.csv', 'w', encoding=\"utf-8\") as fh:\n",
    "    fh.write('title, lifetime collection, release date\\n')\n",
    "    for movie in all_movies:\n",
    "        try:\n",
    "            title = movie.find_element(By.XPATH, './/td[@class=\"a-text-left mojo-field-type-title\"]/a[@class=\"a-link-normal\"]')\n",
    "            life_time = movie.find_element(By.XPATH, './/td[@class=\"a-text-right mojo-field-type-money\"]')\n",
    "            date = movie.find_element(By.XPATH, './/td[@class=\"a-text-left mojo-field-type-year\"]/a[@class=\"a-link-normal\"]')\n",
    "        except:\n",
    "            continue\n",
    "\n",
    "        fh.write(f'\"{title.text}\", \"{life_time.text}\", {date.text}\\n')"
   ]
  }
 ],
 "metadata": {
  "kernelspec": {
   "display_name": "try",
   "language": "python",
   "name": "python3"
  },
  "language_info": {
   "codemirror_mode": {
    "name": "ipython",
    "version": 3
   },
   "file_extension": ".py",
   "mimetype": "text/x-python",
   "name": "python",
   "nbconvert_exporter": "python",
   "pygments_lexer": "ipython3",
   "version": "3.9.7"
  },
  "orig_nbformat": 4,
  "vscode": {
   "interpreter": {
    "hash": "200a82db256eb3265b4550f1d4b97313489e3e78e9bc57877291979c0c710f12"
   }
  }
 },
 "nbformat": 4,
 "nbformat_minor": 2
}

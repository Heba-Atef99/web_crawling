{
 "cells": [
  {
   "attachments": {},
   "cell_type": "markdown",
   "metadata": {},
   "source": [
    "# Import Libraries"
   ]
  },
  {
   "cell_type": "code",
   "execution_count": 7,
   "metadata": {},
   "outputs": [],
   "source": [
    "from selenium import webdriver\n",
    "from selenium.webdriver.common.by import By\n",
    "import urllib.request\n",
    "import os"
   ]
  },
  {
   "attachments": {},
   "cell_type": "markdown",
   "metadata": {},
   "source": [
    "# Setup Driver"
   ]
  },
  {
   "cell_type": "code",
   "execution_count": 2,
   "metadata": {},
   "outputs": [
    {
     "name": "stderr",
     "output_type": "stream",
     "text": [
      "C:\\Users\\Heba\\AppData\\Local\\Temp\\ipykernel_8820\\2908705483.py:1: DeprecationWarning: executable_path has been deprecated, please pass in a Service object\n",
      "  driver = webdriver.Chrome('chromedriver_win32/chromedriver.exe')\n"
     ]
    }
   ],
   "source": [
    "driver = webdriver.Chrome('chromedriver_win32/chromedriver.exe')"
   ]
  },
  {
   "cell_type": "code",
   "execution_count": 3,
   "metadata": {},
   "outputs": [],
   "source": [
    "driver.get('https://www.amazon.eg/s?k=samsung&rh=p_89%3Asamsung&language=en&ref=SQEG-WEB-SR301')"
   ]
  },
  {
   "attachments": {},
   "cell_type": "markdown",
   "metadata": {},
   "source": [
    "## Task 1: Get Products With Prices Only "
   ]
  },
  {
   "cell_type": "code",
   "execution_count": 4,
   "metadata": {},
   "outputs": [],
   "source": [
    "all_products = driver.find_elements(By.XPATH, \"//div[@class='a-section a-spacing-base']\")"
   ]
  },
  {
   "cell_type": "code",
   "execution_count": 5,
   "metadata": {},
   "outputs": [],
   "source": [
    "with open('products.csv', 'w') as fh:\n",
    "    fh.write('title, price, image_url\\n')\n",
    "    for product in all_products:\n",
    "        try:\n",
    "            price = product.find_element(By.XPATH, \".//span[@class='a-price-whole']\")\n",
    "        except:\n",
    "            continue\n",
    "\n",
    "        title = product.find_element(By.XPATH, \".//span[@class='a-size-base-plus a-color-base a-text-normal']\")\n",
    "        image_url = product.find_element(By.XPATH, './/img[@class=\"s-image\"]')\n",
    "        fh.write(f'\"{title.text}\", \"{price.text}\", \"{image_url.get_attribute(\"src\")}\"\\n')"
   ]
  },
  {
   "attachments": {},
   "cell_type": "markdown",
   "metadata": {},
   "source": [
    "## Task 2: Save the Images URLS & Download Them"
   ]
  },
  {
   "attachments": {},
   "cell_type": "markdown",
   "metadata": {},
   "source": [
    "### Create The Images Directory"
   ]
  },
  {
   "cell_type": "code",
   "execution_count": 28,
   "metadata": {},
   "outputs": [],
   "source": [
    "image_path = f\"images/\"\n",
    "if not os.path.exists(image_path):\n",
    "    os.makedirs(image_path)"
   ]
  },
  {
   "cell_type": "code",
   "execution_count": 34,
   "metadata": {},
   "outputs": [],
   "source": [
    "for product in all_products:\n",
    "    title = product.find_element(By.XPATH, \".//span[@class='a-size-base-plus a-color-base a-text-normal']\").text\n",
    "    title = title.replace('/', \"\")\n",
    "    title = title.replace('\"', \"\")\n",
    "    image_url = product.find_element(By.XPATH, './/img[@class=\"s-image\"]').get_attribute(\"src\")\n",
    "    urllib.request.urlretrieve(image_url, image_path+title+'.jpg')"
   ]
  }
 ],
 "metadata": {
  "kernelspec": {
   "display_name": "try",
   "language": "python",
   "name": "python3"
  },
  "language_info": {
   "codemirror_mode": {
    "name": "ipython",
    "version": 3
   },
   "file_extension": ".py",
   "mimetype": "text/x-python",
   "name": "python",
   "nbconvert_exporter": "python",
   "pygments_lexer": "ipython3",
   "version": "3.9.7"
  },
  "orig_nbformat": 4,
  "vscode": {
   "interpreter": {
    "hash": "200a82db256eb3265b4550f1d4b97313489e3e78e9bc57877291979c0c710f12"
   }
  }
 },
 "nbformat": 4,
 "nbformat_minor": 2
}
